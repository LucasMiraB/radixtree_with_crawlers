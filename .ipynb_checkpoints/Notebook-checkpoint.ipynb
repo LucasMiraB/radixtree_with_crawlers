{
 "cells": [
  {
   "cell_type": "code",
   "execution_count": 3,
   "id": "8c2ff7bb",
   "metadata": {
    "ExecuteTime": {
     "end_time": "2022-04-09T14:30:25.668940Z",
     "start_time": "2022-04-09T14:30:25.550951Z"
    }
   },
   "outputs": [
    {
     "name": "stdout",
     "output_type": "stream",
     "text": [
      "The autoreload extension is already loaded. To reload it, use:\n",
      "  %reload_ext autoreload\n"
     ]
    }
   ],
   "source": [
    "%load_ext autoreload\n",
    "%autoreload 2\n",
    "\n",
    "from utils import *"
   ]
  },
  {
   "cell_type": "code",
   "execution_count": 4,
   "id": "ca342379",
   "metadata": {
    "ExecuteTime": {
     "end_time": "2022-04-09T14:30:28.767583Z",
     "start_time": "2022-04-09T14:30:28.075696Z"
    }
   },
   "outputs": [],
   "source": [
    "url = \"https://www.gutenberg.org/cache/epub/23336/pg23336.txt\"\n",
    "req = requests.get(url)\n",
    "req.close()\n",
    "req.text\n",
    "\n",
    "text = req.text.replace(\"\\n\",\"\").replace(\"\\r\",\"\").replace(\"\\ufeff\",\"\")\n",
    "\n",
    "word_list = text.split(\" \")\n",
    "\n",
    "word_dict = {x:[] for x in word_list if len(x) >= 3}\n",
    "word_set = {x for x in word_list if len(x) >= 3}"
   ]
  },
  {
   "cell_type": "code",
   "execution_count": 17,
   "id": "3906c01f",
   "metadata": {
    "ExecuteTime": {
     "end_time": "2022-04-09T14:47:41.742741Z",
     "start_time": "2022-04-09T14:47:41.631745Z"
    },
    "scrolled": true
   },
   "outputs": [
    {
     "data": {
      "text/plain": [
       "['https://www.gutenberg.org/cache/epub/23300/pg23300.txt',\n",
       " 'https://www.gutenberg.org/cache/epub/23301/pg23301.txt',\n",
       " 'https://www.gutenberg.org/cache/epub/23302/pg23302.txt',\n",
       " 'https://www.gutenberg.org/cache/epub/23303/pg23303.txt',\n",
       " 'https://www.gutenberg.org/cache/epub/23304/pg23304.txt',\n",
       " 'https://www.gutenberg.org/cache/epub/23305/pg23305.txt',\n",
       " 'https://www.gutenberg.org/cache/epub/23306/pg23306.txt',\n",
       " 'https://www.gutenberg.org/cache/epub/23307/pg23307.txt',\n",
       " 'https://www.gutenberg.org/cache/epub/23308/pg23308.txt',\n",
       " 'https://www.gutenberg.org/cache/epub/23309/pg23309.txt',\n",
       " 'https://www.gutenberg.org/cache/epub/23310/pg23310.txt',\n",
       " 'https://www.gutenberg.org/cache/epub/23311/pg23311.txt',\n",
       " 'https://www.gutenberg.org/cache/epub/23312/pg23312.txt',\n",
       " 'https://www.gutenberg.org/cache/epub/23313/pg23313.txt',\n",
       " 'https://www.gutenberg.org/cache/epub/23314/pg23314.txt',\n",
       " 'https://www.gutenberg.org/cache/epub/23315/pg23315.txt',\n",
       " 'https://www.gutenberg.org/cache/epub/23316/pg23316.txt',\n",
       " 'https://www.gutenberg.org/cache/epub/23317/pg23317.txt',\n",
       " 'https://www.gutenberg.org/cache/epub/23318/pg23318.txt',\n",
       " 'https://www.gutenberg.org/cache/epub/23319/pg23319.txt',\n",
       " 'https://www.gutenberg.org/cache/epub/23320/pg23320.txt',\n",
       " 'https://www.gutenberg.org/cache/epub/23321/pg23321.txt',\n",
       " 'https://www.gutenberg.org/cache/epub/23322/pg23322.txt',\n",
       " 'https://www.gutenberg.org/cache/epub/23323/pg23323.txt',\n",
       " 'https://www.gutenberg.org/cache/epub/23324/pg23324.txt',\n",
       " 'https://www.gutenberg.org/cache/epub/23325/pg23325.txt',\n",
       " 'https://www.gutenberg.org/cache/epub/23326/pg23326.txt',\n",
       " 'https://www.gutenberg.org/cache/epub/23327/pg23327.txt',\n",
       " 'https://www.gutenberg.org/cache/epub/23328/pg23328.txt',\n",
       " 'https://www.gutenberg.org/cache/epub/23329/pg23329.txt',\n",
       " 'https://www.gutenberg.org/cache/epub/23330/pg23330.txt',\n",
       " 'https://www.gutenberg.org/cache/epub/23331/pg23331.txt',\n",
       " 'https://www.gutenberg.org/cache/epub/23332/pg23332.txt']"
      ]
     },
     "execution_count": 17,
     "metadata": {},
     "output_type": "execute_result"
    }
   ],
   "source": [
    "base_url = \"https://www.gutenberg.org/cache/epub/\"\n",
    "url_list = [base_url+f\"{x}/pg{x}.txt\" for x in range(23300,23333)]\n",
    "url_list"
   ]
  },
  {
   "cell_type": "code",
   "execution_count": 51,
   "id": "dc18ffdf",
   "metadata": {
    "ExecuteTime": {
     "end_time": "2022-04-09T17:27:54.116764Z",
     "start_time": "2022-04-09T17:27:04.894944Z"
    }
   },
   "outputs": [
    {
     "name": "stdout",
     "output_type": "stream",
     "text": [
      "Done URL: https://www.gutenberg.org/cache/epub/23300/pg23300.txt\n",
      "Done URL: https://www.gutenberg.org/cache/epub/23301/pg23301.txt\n",
      "Done URL: https://www.gutenberg.org/cache/epub/23302/pg23302.txt\n",
      "Done URL: https://www.gutenberg.org/cache/epub/23303/pg23303.txt\n",
      "Done URL: https://www.gutenberg.org/cache/epub/23304/pg23304.txt\n",
      "Done URL: https://www.gutenberg.org/cache/epub/23305/pg23305.txt\n",
      "Done URL: https://www.gutenberg.org/cache/epub/23306/pg23306.txt\n",
      "Done URL: https://www.gutenberg.org/cache/epub/23307/pg23307.txt\n",
      "Done URL: https://www.gutenberg.org/cache/epub/23308/pg23308.txt\n",
      "Done URL: https://www.gutenberg.org/cache/epub/23309/pg23309.txt\n",
      "Done URL: https://www.gutenberg.org/cache/epub/23310/pg23310.txt\n",
      "Done URL: https://www.gutenberg.org/cache/epub/23311/pg23311.txt\n",
      "Done URL: https://www.gutenberg.org/cache/epub/23312/pg23312.txt\n",
      "Done URL: https://www.gutenberg.org/cache/epub/23313/pg23313.txt\n",
      "Done URL: https://www.gutenberg.org/cache/epub/23314/pg23314.txt\n",
      "Done URL: https://www.gutenberg.org/cache/epub/23315/pg23315.txt\n",
      "Done URL: https://www.gutenberg.org/cache/epub/23316/pg23316.txt\n",
      "Done URL: https://www.gutenberg.org/cache/epub/23317/pg23317.txt\n",
      "Done URL: https://www.gutenberg.org/cache/epub/23318/pg23318.txt\n",
      "Done URL: https://www.gutenberg.org/cache/epub/23319/pg23319.txt\n",
      "Done URL: https://www.gutenberg.org/cache/epub/23320/pg23320.txt\n",
      "Done URL: https://www.gutenberg.org/cache/epub/23321/pg23321.txt\n",
      "Done URL: https://www.gutenberg.org/cache/epub/23322/pg23322.txt\n",
      "Done URL: https://www.gutenberg.org/cache/epub/23323/pg23323.txt\n",
      "Done URL: https://www.gutenberg.org/cache/epub/23324/pg23324.txt\n",
      "Done URL: https://www.gutenberg.org/cache/epub/23325/pg23325.txt\n",
      "Done URL: https://www.gutenberg.org/cache/epub/23326/pg23326.txt\n",
      "Done URL: https://www.gutenberg.org/cache/epub/23327/pg23327.txt\n",
      "Done URL: https://www.gutenberg.org/cache/epub/23328/pg23328.txt\n",
      "Done URL: https://www.gutenberg.org/cache/epub/23329/pg23329.txt\n",
      "Done URL: https://www.gutenberg.org/cache/epub/23330/pg23330.txt\n",
      "Done URL: https://www.gutenberg.org/cache/epub/23331/pg23331.txt\n",
      "Done URL: https://www.gutenberg.org/cache/epub/23332/pg23332.txt\n",
      "Palavra existe na Arvore\n",
      "Mostrando URLS:\n",
      "https://www.gutenberg.org/cache/epub/23300/pg23300.txt\n",
      "https://www.gutenberg.org/cache/epub/23301/pg23301.txt\n",
      "https://www.gutenberg.org/cache/epub/23302/pg23302.txt\n",
      "https://www.gutenberg.org/cache/epub/23303/pg23303.txt\n",
      "https://www.gutenberg.org/cache/epub/23304/pg23304.txt\n",
      "https://www.gutenberg.org/cache/epub/23305/pg23305.txt\n",
      "https://www.gutenberg.org/cache/epub/23306/pg23306.txt\n",
      "https://www.gutenberg.org/cache/epub/23307/pg23307.txt\n",
      "https://www.gutenberg.org/cache/epub/23308/pg23308.txt\n",
      "https://www.gutenberg.org/cache/epub/23309/pg23309.txt\n",
      "https://www.gutenberg.org/cache/epub/23310/pg23310.txt\n",
      "https://www.gutenberg.org/cache/epub/23311/pg23311.txt\n",
      "https://www.gutenberg.org/cache/epub/23312/pg23312.txt\n",
      "https://www.gutenberg.org/cache/epub/23313/pg23313.txt\n",
      "https://www.gutenberg.org/cache/epub/23314/pg23314.txt\n",
      "https://www.gutenberg.org/cache/epub/23315/pg23315.txt\n",
      "https://www.gutenberg.org/cache/epub/23316/pg23316.txt\n",
      "https://www.gutenberg.org/cache/epub/23317/pg23317.txt\n",
      "https://www.gutenberg.org/cache/epub/23318/pg23318.txt\n",
      "https://www.gutenberg.org/cache/epub/23319/pg23319.txt\n",
      "https://www.gutenberg.org/cache/epub/23320/pg23320.txt\n",
      "https://www.gutenberg.org/cache/epub/23321/pg23321.txt\n",
      "https://www.gutenberg.org/cache/epub/23322/pg23322.txt\n",
      "https://www.gutenberg.org/cache/epub/23323/pg23323.txt\n",
      "https://www.gutenberg.org/cache/epub/23324/pg23324.txt\n",
      "https://www.gutenberg.org/cache/epub/23325/pg23325.txt\n",
      "https://www.gutenberg.org/cache/epub/23326/pg23326.txt\n",
      "https://www.gutenberg.org/cache/epub/23327/pg23327.txt\n",
      "https://www.gutenberg.org/cache/epub/23328/pg23328.txt\n",
      "https://www.gutenberg.org/cache/epub/23329/pg23329.txt\n",
      "https://www.gutenberg.org/cache/epub/23330/pg23330.txt\n",
      "https://www.gutenberg.org/cache/epub/23331/pg23331.txt\n",
      "https://www.gutenberg.org/cache/epub/23332/pg23332.txt\n",
      "\n"
     ]
    },
    {
     "data": {
      "text/plain": [
       "True"
      ]
     },
     "execution_count": 51,
     "metadata": {},
     "output_type": "execute_result"
    }
   ],
   "source": [
    "trie_tree = Trie()\n",
    "trie_tree.add_wordlist(list(word_set))\n",
    "\n",
    "for url in url_list:\n",
    "    trie_tree.add_url(url)\n",
    "    print(f\"Done URL: {url}\")\n",
    "    \n",
    "trie_tree.display_word(\"the\")"
   ]
  },
  {
   "cell_type": "code",
   "execution_count": 50,
   "id": "07b2e6a4",
   "metadata": {
    "ExecuteTime": {
     "end_time": "2022-04-09T17:26:57.531617Z",
     "start_time": "2022-04-09T17:26:57.395616Z"
    }
   },
   "outputs": [
    {
     "name": "stdout",
     "output_type": "stream",
     "text": [
      "Palavra existe na Arvore\n",
      "Mostrando URLS:\n",
      "https://www.gutenberg.org/cache/epub/23300/pg23300.txt\n",
      "\n"
     ]
    },
    {
     "data": {
      "text/plain": [
       "True"
      ]
     },
     "execution_count": 50,
     "metadata": {},
     "output_type": "execute_result"
    }
   ],
   "source": [
    "trie_tree.display_word(\"Project\")"
   ]
  },
  {
   "cell_type": "code",
   "execution_count": 38,
   "id": "a95393d7",
   "metadata": {
    "ExecuteTime": {
     "end_time": "2022-04-09T17:20:42.745317Z",
     "start_time": "2022-04-09T17:20:42.632333Z"
    }
   },
   "outputs": [
    {
     "data": {
      "text/plain": [
       "[]"
      ]
     },
     "execution_count": 38,
     "metadata": {},
     "output_type": "execute_result"
    }
   ],
   "source": [
    "dir(child)\n",
    "\n",
    "child.url_list"
   ]
  }
 ],
 "metadata": {
  "kernelspec": {
   "display_name": "Python 3 (ipykernel)",
   "language": "python",
   "name": "python3"
  },
  "language_info": {
   "codemirror_mode": {
    "name": "ipython",
    "version": 3
   },
   "file_extension": ".py",
   "mimetype": "text/x-python",
   "name": "python",
   "nbconvert_exporter": "python",
   "pygments_lexer": "ipython3",
   "version": "3.7.9"
  },
  "toc": {
   "base_numbering": 1,
   "nav_menu": {},
   "number_sections": true,
   "sideBar": true,
   "skip_h1_title": false,
   "title_cell": "Table of Contents",
   "title_sidebar": "Contents",
   "toc_cell": false,
   "toc_position": {},
   "toc_section_display": true,
   "toc_window_display": false
  }
 },
 "nbformat": 4,
 "nbformat_minor": 5
}
